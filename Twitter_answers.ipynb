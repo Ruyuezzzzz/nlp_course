{
 "cells": [
  {
   "cell_type": "code",
   "execution_count": 2,
   "metadata": {
    "collapsed": false,
    "scrolled": true
   },
   "outputs": [],
   "source": [
    "import json\n",
    "import re\n",
    "\n",
    "texts = []\n",
    "\n",
    "with open('./stream_apple.json', 'r') as fh:\n",
    "    for line in fh:\n",
    "        tweet = json.loads(line)\n",
    "        texts.append(tweet['text'])\n",
    "        \n",
    "texts = [re.sub(r\"http\\S+\", \"\", text) for text in texts]"
   ]
  },
  {
   "cell_type": "code",
   "execution_count": 20,
   "metadata": {
    "collapsed": false,
    "scrolled": true
   },
   "outputs": [],
   "source": [
    "from sklearn.feature_extraction.text import TfidfVectorizer\n",
    "tfidf_vectorizer = TfidfVectorizer(max_features=200000,\n",
    "                                 stop_words='english',\n",
    "                                 use_idf=True, ngram_range=(1,3))\n",
    "tfidf_matrix = tfidf_vectorizer.fit_transform(texts)"
   ]
  },
  {
   "cell_type": "code",
   "execution_count": 51,
   "metadata": {
    "collapsed": false
   },
   "outputs": [
    {
     "name": "stdout",
     "output_type": "stream",
     "text": [
      "CPU times: user 976 ms, sys: 23.6 ms, total: 999 ms\n",
      "Wall time: 255 ms\n"
     ]
    }
   ],
   "source": [
    "from sklearn.metrics.pairwise import cosine_similarity\n",
    "dist = 1 - cosine_similarity(tfidf_matrix)\n",
    "\n",
    "from sklearn.cluster import KMeans\n",
    "\n",
    "num_clusters = 5\n",
    "\n",
    "km = KMeans(n_clusters=num_clusters)\n",
    "\n",
    "%time km.fit(tfidf_matrix)\n",
    "\n",
    "clusters = km.labels_.tolist()"
   ]
  },
  {
   "cell_type": "code",
   "execution_count": 49,
   "metadata": {
    "collapsed": false
   },
   "outputs": [
    {
     "data": {
      "text/plain": [
       "array([[ 0.0006505 ,  0.00147021,  0.00147021, ...,  0.00119986,\n",
       "         0.00119986,  0.0003868 ],\n",
       "       [ 0.        ,  0.        ,  0.        , ...,  0.        ,\n",
       "         0.        ,  0.        ],\n",
       "       [ 0.        ,  0.        ,  0.        , ...,  0.        ,\n",
       "         0.        ,  0.        ],\n",
       "       [ 0.        ,  0.        ,  0.        , ...,  0.        ,\n",
       "         0.        ,  0.        ],\n",
       "       [ 0.        ,  0.        ,  0.        , ...,  0.        ,\n",
       "         0.        ,  0.        ]])"
      ]
     },
     "execution_count": 49,
     "metadata": {},
     "output_type": "execute_result"
    }
   ],
   "source": [
    "km.cluster_centers_"
   ]
  },
  {
   "cell_type": "code",
   "execution_count": 52,
   "metadata": {
    "collapsed": false
   },
   "outputs": [
    {
     "name": "stdout",
     "output_type": "stream",
     "text": [
      "CLUSTER 0\n",
      "apple\n",
      "rt\n",
      "campaignconeloc\n",
      "free\n",
      "iphone\n",
      "\n",
      "\n",
      "\n",
      "CLUSTER 1\n",
      "iphone gotta\n",
      "got iphone\n",
      "apple music apple\n",
      "pay apple\n",
      "pay apple music\n",
      "\n",
      "\n",
      "\n",
      "CLUSTER 2\n",
      "version itunes\n",
      "gagachartss\n",
      "buyjoanneonitunes\n",
      "rt gagachartss\n",
      "rt gagachartss joanne\n",
      "\n",
      "\n",
      "\n",
      "CLUSTER 3\n",
      "cray\n",
      "check cray dollas\n",
      "cray dollas applemusic\n",
      "cray dollas\n",
      "applemusic craydollas\n",
      "\n",
      "\n",
      "\n",
      "CLUSTER 4\n",
      "rt feverrish\n",
      "feverrish\n",
      "feverrish finallyyyyy\n",
      "finallyyyyy\n",
      "rt feverrish finallyyyyy\n",
      "\n",
      "\n",
      "\n"
     ]
    }
   ],
   "source": [
    "order_centroids = km.cluster_centers_.argsort()[:, ::-1] \n",
    "\n",
    "for i in range(num_clusters):\n",
    "    print('CLUSTER ' + str(i))\n",
    "    for ind in order_centroids[i, :5]:\n",
    "        print(tfidf_vectorizer.get_feature_names()[ind])\n",
    "    print('\\n\\n')"
   ]
  },
  {
   "cell_type": "code",
   "execution_count": 26,
   "metadata": {
    "collapsed": false
   },
   "outputs": [
    {
     "data": {
      "text/plain": [
       "473"
      ]
     },
     "execution_count": 26,
     "metadata": {},
     "output_type": "execute_result"
    }
   ],
   "source": [
    "len(texts)"
   ]
  }
 ],
 "metadata": {
  "anaconda-cloud": {},
  "kernelspec": {
   "display_name": "Python [conda env:py35]",
   "language": "python",
   "name": "conda-env-py35-py"
  },
  "language_info": {
   "codemirror_mode": {
    "name": "ipython",
    "version": 3
   },
   "file_extension": ".py",
   "mimetype": "text/x-python",
   "name": "python",
   "nbconvert_exporter": "python",
   "pygments_lexer": "ipython3",
   "version": "3.5.4"
  }
 },
 "nbformat": 4,
 "nbformat_minor": 1
}
